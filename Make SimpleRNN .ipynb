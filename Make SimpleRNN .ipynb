{
 "cells": [
  {
   "cell_type": "code",
   "execution_count": 24,
   "id": "30820d3d",
   "metadata": {},
   "outputs": [],
   "source": [
    "import tensorflow as tf\n",
    "from tensorflow.keras.layers import Input, Dense, Embedding, SimpleRNN\n",
    "from tensorflow.keras.models import Model\n",
    "from tensorflow.keras.models import Sequential\n",
    "from tensorflow.keras.preprocessing.sequence import pad_sequences\n",
    "import numpy as np\n",
    "import pandas as pd"
   ]
  },
  {
   "cell_type": "code",
   "execution_count": 9,
   "id": "3988763e",
   "metadata": {},
   "outputs": [],
   "source": [
    "movie_reviews = [\n",
    "         {'review': 'this is the best movie', 'sentiment': 'positive'},\n",
    "         {'review': 'i recommend you watch this movie', 'sentiment': 'positive'},\n",
    "         {'review': 'it was waste of money and time', 'sentiment': 'negative'},\n",
    "         {'review': 'the worst movie ever', 'sentiment': 'negative'}\n",
    "    ]\n",
    "df = pd.DataFrame(movie_reviews)"
   ]
  },
  {
   "cell_type": "code",
   "execution_count": 10,
   "id": "ef2e888f",
   "metadata": {},
   "outputs": [
    {
     "data": {
      "text/html": [
       "<div>\n",
       "<style scoped>\n",
       "    .dataframe tbody tr th:only-of-type {\n",
       "        vertical-align: middle;\n",
       "    }\n",
       "\n",
       "    .dataframe tbody tr th {\n",
       "        vertical-align: top;\n",
       "    }\n",
       "\n",
       "    .dataframe thead th {\n",
       "        text-align: right;\n",
       "    }\n",
       "</style>\n",
       "<table border=\"1\" class=\"dataframe\">\n",
       "  <thead>\n",
       "    <tr style=\"text-align: right;\">\n",
       "      <th></th>\n",
       "      <th>review</th>\n",
       "      <th>sentiment</th>\n",
       "    </tr>\n",
       "  </thead>\n",
       "  <tbody>\n",
       "    <tr>\n",
       "      <th>0</th>\n",
       "      <td>this is the best movie</td>\n",
       "      <td>positive</td>\n",
       "    </tr>\n",
       "    <tr>\n",
       "      <th>1</th>\n",
       "      <td>i recommend you watch this movie</td>\n",
       "      <td>positive</td>\n",
       "    </tr>\n",
       "    <tr>\n",
       "      <th>2</th>\n",
       "      <td>it was waste of money and time</td>\n",
       "      <td>negative</td>\n",
       "    </tr>\n",
       "    <tr>\n",
       "      <th>3</th>\n",
       "      <td>the worst movie ever</td>\n",
       "      <td>negative</td>\n",
       "    </tr>\n",
       "  </tbody>\n",
       "</table>\n",
       "</div>"
      ],
      "text/plain": [
       "                             review sentiment\n",
       "0            this is the best movie  positive\n",
       "1  i recommend you watch this movie  positive\n",
       "2    it was waste of money and time  negative\n",
       "3              the worst movie ever  negative"
      ]
     },
     "execution_count": 10,
     "metadata": {},
     "output_type": "execute_result"
    }
   ],
   "source": [
    "df"
   ]
  },
  {
   "cell_type": "markdown",
   "id": "42123c6a",
   "metadata": {},
   "source": [
    "## Word Tokenize and Vocab_size"
   ]
  },
  {
   "cell_type": "code",
   "execution_count": 11,
   "id": "42280ccb",
   "metadata": {},
   "outputs": [],
   "source": [
    "def get_vocab_to_int(df):\n",
    "    d = {}\n",
    "    vocab = set()\n",
    "    df['review'].str.split(' ').apply(vocab.update)\n",
    "    for idx, word in enumerate(vocab):\n",
    "        d[word] = idx\n",
    "    \n",
    "    return d\n",
    "\n",
    "vocab_to_int = get_vocab_to_int(df)\n",
    "vocab_size = len(vocab_to_int)"
   ]
  },
  {
   "cell_type": "code",
   "execution_count": 12,
   "id": "b1de92f1",
   "metadata": {},
   "outputs": [
    {
     "name": "stdout",
     "output_type": "stream",
     "text": [
      "18\n"
     ]
    },
    {
     "data": {
      "text/plain": [
       "{'movie': 0,\n",
       " 'was': 1,\n",
       " 'worst': 2,\n",
       " 'best': 3,\n",
       " 'i': 4,\n",
       " 'of': 5,\n",
       " 'it': 6,\n",
       " 'time': 7,\n",
       " 'the': 8,\n",
       " 'watch': 9,\n",
       " 'ever': 10,\n",
       " 'recommend': 11,\n",
       " 'and': 12,\n",
       " 'you': 13,\n",
       " 'this': 14,\n",
       " 'is': 15,\n",
       " 'money': 16,\n",
       " 'waste': 17}"
      ]
     },
     "execution_count": 12,
     "metadata": {},
     "output_type": "execute_result"
    }
   ],
   "source": [
    "print(vocab_size)\n",
    "\n",
    "vocab_to_int"
   ]
  },
  {
   "cell_type": "markdown",
   "id": "7d71e76c",
   "metadata": {},
   "source": [
    "## sentences change with tokenize"
   ]
  },
  {
   "cell_type": "code",
   "execution_count": 15,
   "id": "34d859d4",
   "metadata": {},
   "outputs": [],
   "source": [
    "reviews = df['review'].tolist()\n",
    "\n",
    "encoded_reviews = []\n",
    "for review in reviews:\n",
    "    tokens = review.split(' ')\n",
    "    review_encoding = []\n",
    "    for token in tokens:\n",
    "        review_encoding.append(vocab_to_int[token])\n",
    "    encoded_reviews.append(review_encoding)"
   ]
  },
  {
   "cell_type": "code",
   "execution_count": 16,
   "id": "727f99a7",
   "metadata": {},
   "outputs": [
    {
     "name": "stdout",
     "output_type": "stream",
     "text": [
      "[14, 15, 8, 3, 0]\n",
      "[4, 11, 13, 9, 14, 0]\n",
      "[6, 1, 17, 5, 16, 12, 7]\n",
      "[8, 2, 0, 10]\n"
     ]
    }
   ],
   "source": [
    "print(encoded_reviews[0])\n",
    "print(encoded_reviews[1])\n",
    "print(encoded_reviews[2])\n",
    "print(encoded_reviews[3])"
   ]
  },
  {
   "cell_type": "code",
   "execution_count": 17,
   "id": "9e1a8f12",
   "metadata": {},
   "outputs": [],
   "source": [
    "def get_max_length(df):\n",
    "    max_length = 0\n",
    "    for row in df['review']:\n",
    "        if len(row.split(' ')) > max_length:\n",
    "            max_length = len(row.split(' '))\n",
    "    \n",
    "    return max_length\n",
    "\n",
    "max_length = get_max_length(df)"
   ]
  },
  {
   "cell_type": "code",
   "execution_count": 18,
   "id": "422bb3d7",
   "metadata": {},
   "outputs": [
    {
     "data": {
      "text/plain": [
       "7"
      ]
     },
     "execution_count": 18,
     "metadata": {},
     "output_type": "execute_result"
    }
   ],
   "source": [
    "max_length"
   ]
  },
  {
   "cell_type": "markdown",
   "id": "8648affd",
   "metadata": {},
   "source": [
    "## pad_sequence"
   ]
  },
  {
   "cell_type": "code",
   "execution_count": 20,
   "id": "ade7c083",
   "metadata": {},
   "outputs": [
    {
     "name": "stdout",
     "output_type": "stream",
     "text": [
      "[[14 15  8  3  0  0  0]\n",
      " [ 4 11 13  9 14  0  0]\n",
      " [ 6  1 17  5 16 12  7]\n",
      " [ 8  2  0 10  0  0  0]]\n"
     ]
    }
   ],
   "source": [
    "padded_reviews_encoding =\\\n",
    "   pad_sequences(encoded_reviews, maxlen = max_length, padding = 'post')\n",
    "\n",
    "print(padded_reviews_encoding)"
   ]
  },
  {
   "cell_type": "code",
   "execution_count": 21,
   "id": "56e169b4",
   "metadata": {},
   "outputs": [
    {
     "name": "stdout",
     "output_type": "stream",
     "text": [
      "[[1, 0], [1, 0], [0, 1], [0, 1]]\n"
     ]
    }
   ],
   "source": [
    "sentiments = df['sentiment'].tolist()\n",
    "\n",
    "def sentiment_encoded(sentiment):\n",
    "    if sentiment == 'positive':\n",
    "        return [1, 0]\n",
    "    else:\n",
    "        return [0, 1]\n",
    "    \n",
    "encoded_sentiment = [sentiment_encoded(sentiment) for sentiment in sentiments]\n",
    "\n",
    "print(encoded_sentiment)"
   ]
  },
  {
   "cell_type": "markdown",
   "id": "83d6b6af",
   "metadata": {},
   "source": [
    "## Make Model"
   ]
  },
  {
   "cell_type": "code",
   "execution_count": 25,
   "id": "39dc6101",
   "metadata": {},
   "outputs": [
    {
     "name": "stdout",
     "output_type": "stream",
     "text": [
      "Epoch 1/20\n",
      "1/1 [==============================] - 1s 842ms/step - loss: 0.6944 - acc: 0.7500\n",
      "Epoch 2/20\n",
      "1/1 [==============================] - 0s 4ms/step - loss: 0.6909 - acc: 0.7500\n",
      "Epoch 3/20\n",
      "1/1 [==============================] - 0s 4ms/step - loss: 0.6875 - acc: 0.7500\n",
      "Epoch 4/20\n",
      "1/1 [==============================] - 0s 3ms/step - loss: 0.6841 - acc: 0.7500\n",
      "Epoch 5/20\n",
      "1/1 [==============================] - 0s 4ms/step - loss: 0.6807 - acc: 1.0000\n",
      "Epoch 6/20\n",
      "1/1 [==============================] - 0s 4ms/step - loss: 0.6772 - acc: 1.0000\n",
      "Epoch 7/20\n",
      "1/1 [==============================] - 0s 4ms/step - loss: 0.6735 - acc: 1.0000\n",
      "Epoch 8/20\n",
      "1/1 [==============================] - 0s 4ms/step - loss: 0.6697 - acc: 1.0000\n",
      "Epoch 9/20\n",
      "1/1 [==============================] - 0s 4ms/step - loss: 0.6657 - acc: 1.0000\n",
      "Epoch 10/20\n",
      "1/1 [==============================] - 0s 3ms/step - loss: 0.6613 - acc: 1.0000\n",
      "Epoch 11/20\n",
      "1/1 [==============================] - 0s 4ms/step - loss: 0.6567 - acc: 1.0000\n",
      "Epoch 12/20\n",
      "1/1 [==============================] - 0s 4ms/step - loss: 0.6517 - acc: 1.0000\n",
      "Epoch 13/20\n",
      "1/1 [==============================] - 0s 3ms/step - loss: 0.6463 - acc: 1.0000\n",
      "Epoch 14/20\n",
      "1/1 [==============================] - 0s 4ms/step - loss: 0.6405 - acc: 1.0000\n",
      "Epoch 15/20\n",
      "1/1 [==============================] - 0s 3ms/step - loss: 0.6341 - acc: 1.0000\n",
      "Epoch 16/20\n",
      "1/1 [==============================] - 0s 3ms/step - loss: 0.6272 - acc: 1.0000\n",
      "Epoch 17/20\n",
      "1/1 [==============================] - 0s 3ms/step - loss: 0.6197 - acc: 1.0000\n",
      "Epoch 18/20\n",
      "1/1 [==============================] - 0s 3ms/step - loss: 0.6116 - acc: 1.0000\n",
      "Epoch 19/20\n",
      "1/1 [==============================] - 0s 3ms/step - loss: 0.6027 - acc: 1.0000\n",
      "Epoch 20/20\n",
      "1/1 [==============================] - 0s 3ms/step - loss: 0.5931 - acc: 1.0000\n"
     ]
    },
    {
     "data": {
      "text/plain": [
       "<keras.callbacks.History at 0x7fe700a13520>"
      ]
     },
     "execution_count": 25,
     "metadata": {},
     "output_type": "execute_result"
    }
   ],
   "source": [
    "model = Sequential()\n",
    "model.add(Embedding(vocab_size, 3, input_length = max_length))\n",
    "model.add(SimpleRNN(32))\n",
    "model.add(Dense(2, activation = 'softmax'))\n",
    "\n",
    "model.compile(optimizer = 'adam', loss = 'binary_crossentropy', metrics = 'acc')\n",
    "\n",
    "X_train = np.array(padded_reviews_encoding)\n",
    "Y_train = np.array(encoded_sentiment)\n",
    "\n",
    "model.fit(X_train, Y_train, epochs = 20)"
   ]
  },
  {
   "cell_type": "code",
   "execution_count": null,
   "id": "c9591643",
   "metadata": {},
   "outputs": [],
   "source": []
  }
 ],
 "metadata": {
  "kernelspec": {
   "display_name": "Python 3 (ipykernel)",
   "language": "python",
   "name": "python3"
  },
  "language_info": {
   "codemirror_mode": {
    "name": "ipython",
    "version": 3
   },
   "file_extension": ".py",
   "mimetype": "text/x-python",
   "name": "python",
   "nbconvert_exporter": "python",
   "pygments_lexer": "ipython3",
   "version": "3.9.7"
  }
 },
 "nbformat": 4,
 "nbformat_minor": 5
}
