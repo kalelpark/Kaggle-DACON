{
  "nbformat": 4,
  "nbformat_minor": 0,
  "metadata": {
    "colab": {
      "name": "Gradient_descent.ipynb",
      "provenance": []
    },
    "kernelspec": {
      "name": "python3",
      "display_name": "Python 3"
    },
    "language_info": {
      "name": "python"
    }
  },
  "cells": [
    {
      "cell_type": "code",
      "execution_count": 61,
      "metadata": {
        "colab": {
          "base_uri": "https://localhost:8080/",
          "height": 282
        },
        "id": "iPqmDffPXrXU",
        "outputId": "5496085a-1c9a-4254-9ca0-d186e4369474"
      },
      "outputs": [
        {
          "output_type": "execute_result",
          "data": {
            "text/plain": [
              "<matplotlib.legend.Legend at 0x7f4afab5fc90>"
            ]
          },
          "metadata": {},
          "execution_count": 61
        },
        {
          "output_type": "display_data",
          "data": {
            "image/png": "[encoded data removed]",
            "text/plain": [
              "<Figure size 432x288 with 1 Axes>"
            ]
          },
          "metadata": {
            "needs_background": "light"
          }
        }
      ],
      "source": [
        "import numpy as np\n",
        "import matplotlib.pyplot as plt\n",
        "x = np.random.randint(1, 30, 100)\n",
        "\n",
        "real_y = 4*x + 2\n",
        "\n",
        "W = np.random.uniform(-1, 1)\n",
        "b = np.random.uniform(-1, 1)\n",
        "\n",
        "pred = W*x + b\n",
        "\n",
        "plt.plot(x, real_y, label = 'real')\n",
        "plt.scatter(x, pred, label = 'pred', c = 'red')\n",
        "plt.legend()"
      ]
    },
    {
      "cell_type": "code",
      "source": [
        "learning_rate = 0.001\n",
        "print('Before ..  W : {0}  b : {1}'.format(W, b))\n",
        "print('Before {}')\n",
        "for i in range(50):  \n",
        "  # 예측\n",
        "  error = real_y - pred \n",
        "  # 오차\n",
        "  tmp = np.ones((N, ))\n",
        "  w_update = (2/N)*learning_rate*np.dot(x.T, error)\n",
        "  b_update = (2/N)*learning_rate*np.dot(tmp.T, error)\n",
        "\n",
        "  W += w_update\n",
        "  b += b_update\n",
        "\n",
        "  pred = W*x + b\n",
        "\n",
        "  mse_loss = np.mean(np.square(error))\n",
        "\n",
        "  print('%d / 100' %i)\n",
        "  print('loss : ', mse_loss)\n",
        "\n",
        "print('W : {0}  b : {1}'.format(W, b))\n",
        "# plt.plot(x, real_y, label = 'real')\n",
        "plt.scatter(x, pred, label = 'pred', c = 'red')\n",
        "plt.xlim(0, 30, 5)\n",
        "plt.ylim(0, 120, 20)\n",
        "plt.legend()\n"
      ],
      "metadata": {
        "colab": {
          "base_uri": "https://localhost:8080/",
          "height": 1000
        },
        "id": "p9NUWx7tYFp-",
        "outputId": "d4a83b14-1eeb-4891-b3b1-f1153cd7e93c"
      },
      "execution_count": 62,
      "outputs": [
        {
          "output_type": "stream",
          "name": "stdout",
          "text": [
            "Before ..  W : 0.38848517402288874  b : 0.12259151680197444\n",
            "Before {}\n",
            "0 / 100\n",
            "loss :  3830.3818131194857\n",
            "1 / 100\n",
            "loss :  746.3128143604985\n",
            "2 / 100\n",
            "loss :  145.92748286528382\n",
            "3 / 100\n",
            "loss :  29.048022802142793\n",
            "4 / 100\n",
            "loss :  6.2940475510612695\n",
            "5 / 100\n",
            "loss :  1.8637529915527395\n",
            "6 / 100\n",
            "loss :  1.0005830523795805\n",
            "7 / 100\n",
            "loss :  0.8318363557290624\n",
            "8 / 100\n",
            "loss :  0.7982758291599719\n",
            "9 / 100\n",
            "loss :  0.7910331762140831\n",
            "10 / 100\n",
            "loss :  0.7889146904025615\n",
            "11 / 100\n",
            "loss :  0.7877945308093419\n",
            "12 / 100\n",
            "loss :  0.786869507190371\n",
            "13 / 100\n",
            "loss :  0.7859832593023754\n",
            "14 / 100\n",
            "loss :  0.7851053471669082\n",
            "15 / 100\n",
            "loss :  0.7842298440680152\n",
            "16 / 100\n",
            "loss :  0.7833555953583048\n",
            "17 / 100\n",
            "loss :  0.782482375383737\n",
            "18 / 100\n",
            "loss :  0.781610139341063\n",
            "19 / 100\n",
            "loss :  0.7807388776347479\n",
            "20 / 100\n",
            "loss :  0.7798685875242267\n",
            "21 / 100\n",
            "loss :  0.7789992676043863\n",
            "22 / 100\n",
            "loss :  0.7781309167310426\n",
            "23 / 100\n",
            "loss :  0.7772635338118011\n",
            "24 / 100\n",
            "loss :  0.7763971177653015\n",
            "25 / 100\n",
            "loss :  0.7755316675133108\n",
            "26 / 100\n",
            "loss :  0.7746671819791681\n",
            "27 / 100\n",
            "loss :  0.7738036600874807\n",
            "28 / 100\n",
            "loss :  0.7729411007640756\n",
            "29 / 100\n",
            "loss :  0.7720795029359772\n",
            "30 / 100\n",
            "loss :  0.7712188655314037\n",
            "31 / 100\n",
            "loss :  0.7703591874797737\n",
            "32 / 100\n",
            "loss :  0.7695004677116901\n",
            "33 / 100\n",
            "loss :  0.7686427051589625\n",
            "34 / 100\n",
            "loss :  0.7677858987545725\n",
            "35 / 100\n",
            "loss :  0.7669300474327106\n",
            "36 / 100\n",
            "loss :  0.766075150128738\n",
            "37 / 100\n",
            "loss :  0.7652212057792147\n",
            "38 / 100\n",
            "loss :  0.7643682133218809\n",
            "39 / 100\n",
            "loss :  0.7635161716956638\n",
            "40 / 100\n",
            "loss :  0.7626650798406647\n",
            "41 / 100\n",
            "loss :  0.7618149366981823\n",
            "42 / 100\n",
            "loss :  0.7609657412106854\n",
            "43 / 100\n",
            "loss :  0.7601174923218116\n",
            "44 / 100\n",
            "loss :  0.7592701889763999\n",
            "45 / 100\n",
            "loss :  0.7584238301204467\n",
            "46 / 100\n",
            "loss :  0.757578414701128\n",
            "47 / 100\n",
            "loss :  0.7567339416667979\n",
            "48 / 100\n",
            "loss :  0.7558904099669763\n",
            "49 / 100\n",
            "loss :  0.755047818552362\n",
            "W : 4.083615698508265  b : 0.3572421601302729\n"
          ]
        },
        {
          "output_type": "execute_result",
          "data": {
            "text/plain": [
              "<matplotlib.legend.Legend at 0x7f4afaacd150>"
            ]
          },
          "metadata": {},
          "execution_count": 62
        },
        {
          "output_type": "display_data",
          "data": {
            "image/png": "[encoded data removed]",
            "text/plain": [
              "<Figure size 432x288 with 1 Axes>"
            ]
          },
          "metadata": {
            "needs_background": "light"
          }
        }
      ]
    },
    {
      "cell_type": "code",
      "source": [
        ""
      ],
      "metadata": {
        "id": "4WmqxYxmZ2sl"
      },
      "execution_count": null,
      "outputs": []
    }
  ]
}