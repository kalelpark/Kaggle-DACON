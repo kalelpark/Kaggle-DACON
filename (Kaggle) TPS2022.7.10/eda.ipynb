{
 "cells": [
  {
   "cell_type": "code",
   "execution_count": null,
   "metadata": {},
   "outputs": [],
   "source": [
    "# library\n",
    "import numpy as np\n",
    "import pandas as pd\n",
    "\n",
    "# visualize\n",
    "import matplotlib.pyplot as plt\n",
    "import seaborn as sns\n",
    "sns.set_style('darkgrid')\n",
    "\n",
    "# sklearn\n",
    "from sklearn import preprocessing\n",
    "from sklearn import metrics\n",
    "from sklearn.cluster import KMeans, MeanShift, SpectralClustering\n",
    "from sklearn.decomposition import PCA, TruncatedSVD, NMF, FastICA, FactorAnalysis\n",
    "from sklearn.mixture import GaussianMixture, BayesianGaussianMixture\n",
    "\n",
    "df = pd.read_csv(\"data/data.csv\")\n",
    "submission=df[['id']]\n",
    "\n",
    "df = df.drop(columns = \"id\")\n",
    "cols = list(df.columns)"
   ]
  },
  {
   "cell_type": "code",
   "execution_count": null,
   "metadata": {},
   "outputs": [],
   "source": [
    "scores = []\n",
    "\n",
    "for sca in scalers:\n",
    "  X_scaled = sca.fit_transform(df)\n",
    "  X_scaled = preprocessing.PowerTransformer().fit_transform(X_scaled)\n",
    "  \n",
    "  X_scaled = pd.DataFrame(X_scaled, columns = cols)\n",
    "  X_pca = FactorAnalysis().fit_transform(X_scaled)\n",
    "  PCA_df = pd.DataFrame({\"PCA_1\" : X_pca[:, 0], \"PCA_2\" : X_pca[: , 1]})\n",
    "\n",
    "  for gmm in autoclust:\n",
    "    preds = gmm.fit_predict(X_scaled)\n",
    "    PCA_df['classi'] = preds\n",
    "    f, ax = plt.subplots(figsize = (5, 5))\n",
    "    sns.scatterplot(data = PCA_df, x = \"PCA_1\", y = \"PCA_2\", hue = \"classi\"\n",
    "                                   ,s = 3, palette = sns.color_palette(\"rocket\", PCA_df[\"classi\"].nunique()))\n",
    "\n",
    "    plt.show()\n",
    "    shs = metrics.silhouette_score(X_scaled, preds, metric = 'euclidean')\n",
    "    chs=metrics.calinski_harabasz_score(X_scaled, preds)\n",
    "    dbs=metrics.davies_bouldin_score(X_scaled, preds)\n",
    "\n",
    "    scores.append([sca,gmm,shs,chs,dbs])\n",
    "    print(pd.DataFrame(scores))\n",
    "    submission['Predicted'] =0\n",
    "    submission['Predicted']=preds\n",
    "    submission.to_csv(str(gmm)+str(sca)+'submission.csv', index=False)\n",
    "    submission"
   ]
  }
 ],
 "metadata": {
  "language_info": {
   "name": "python"
  },
  "orig_nbformat": 4
 },
 "nbformat": 4,
 "nbformat_minor": 2
}
