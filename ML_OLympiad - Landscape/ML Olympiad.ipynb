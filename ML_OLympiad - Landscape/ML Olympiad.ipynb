{
 "cells": [
  {
   "cell_type": "code",
   "execution_count": 208,
   "id": "62e484a5",
   "metadata": {},
   "outputs": [],
   "source": [
    "import pandas as pd\n",
    "import numpy as np\n",
    "import cv2\n",
    "import torchvision\n",
    "import torch\n",
    "import torch.nn as nn\n",
    "import torch.optim as optim\n",
    "import torchvision.transforms as transforms\n",
    "from torch.utils.data import DataLoader, Dataset\n",
    "import matplotlib.pyplot as plt\n",
    "import seaborn as sns\n",
    "from efficientnet_pytorch import EfficientNet\n",
    "from sklearn.preprocessing import LabelEncoder"
   ]
  },
  {
   "cell_type": "code",
   "execution_count": 209,
   "id": "eccb081e",
   "metadata": {},
   "outputs": [],
   "source": [
    "train_filepath = './train/'\n",
    "test_filepath = './test/'\n",
    "\n",
    "train_df = pd.read_csv('./train.csv')\n",
    "test_df = pd.read_csv('./test.csv')\n",
    "\n",
    "train_df['filepath'] = filepath + train_df['image']\n",
    "test_df['image_path'] = './test/' + test_df['image']"
   ]
  },
  {
   "cell_type": "code",
   "execution_count": 210,
   "id": "9975165c",
   "metadata": {},
   "outputs": [],
   "source": [
    "def prepare_label(y):\n",
    "    values = np.array(y)\n",
    "    label_encoder = LabelEncoder()\n",
    "    integer_encoded = label_encoder.fit_transform(values).reshape(len(values), 1)\n",
    "    return integer_encoded, label_encoder\n",
    "\n",
    "target, label_encoder = prepare_label(train_df['label'])"
   ]
  },
  {
   "cell_type": "code",
   "execution_count": 211,
   "id": "222896a0",
   "metadata": {},
   "outputs": [],
   "source": [
    "transforms = transforms.Compose([\n",
    "    transforms.ToTensor(),\n",
    "    transforms.Normalize((0.5, 0.5, 0.5), (0.5, 0.5, 0.5)),\n",
    "    transforms.Resize((224, 224))\n",
    "])"
   ]
  },
  {
   "cell_type": "code",
   "execution_count": 212,
   "id": "cbf1d595",
   "metadata": {},
   "outputs": [],
   "source": [
    "from PIL import Image\n",
    "class Img_Dataset(Dataset):\n",
    "    def __init__(self, file_list, transform):\n",
    "        self.file_list = file_list\n",
    "        self.transform = transform\n",
    "    \n",
    "    def __len__(self):\n",
    "        return len(self.file_list)\n",
    "    \n",
    "    def __getitem__(self, index):\n",
    "        img_path = self.file_list[index]\n",
    "        img = Image.open(img_path)\n",
    "        img = self.transform(img)\n",
    "        \n",
    "        return img"
   ]
  },
  {
   "cell_type": "code",
   "execution_count": 213,
   "id": "e04dd75e",
   "metadata": {},
   "outputs": [],
   "source": [
    "trainset = torchvision.datasets.ImageFolder('./train/', transform = transforms)\n",
    "testset = Img_Dataset(test_df['image_path'].values.tolist(), transform = transforms)\n",
    "\n",
    "trainloader = DataLoader(trainset, batch_size = 128, shuffle = True)\n",
    "testloader = DataLoader(testset, batch_size = 128)"
   ]
  },
  {
   "cell_type": "code",
   "execution_count": 214,
   "id": "b7cc1c75",
   "metadata": {},
   "outputs": [],
   "source": [
    "device = torch.device(\"cuda\" if torch.cuda.is_available() else \"cpu\")\n",
    "model = torchvision.models.resnet18(pretrained = True)\n",
    "model.fc = nn.Linear(512, 6)\n",
    "\n",
    "crterion = nn.CrossEntropyLoss()\n",
    "optimizer = optim.Adam(model.parameters(), lr = 1e-3)\n",
    "model = model.to(device)"
   ]
  },
  {
   "cell_type": "code",
   "execution_count": 215,
   "id": "bf49d9c2",
   "metadata": {},
   "outputs": [
    {
     "data": {
      "text/plain": [
       "22533"
      ]
     },
     "execution_count": 215,
     "metadata": {},
     "output_type": "execute_result"
    }
   ],
   "source": [
    "import gc\n",
    "gc.collect()"
   ]
  },
  {
   "cell_type": "code",
   "execution_count": 216,
   "id": "be614347",
   "metadata": {
    "scrolled": true
   },
   "outputs": [
    {
     "name": "stdout",
     "output_type": "stream",
     "text": [
      "Epoch : [1] loss : 0.492\n",
      "Epoch : [2] loss : 0.290\n",
      "Epoch : [3] loss : 0.242\n",
      "Epoch : [4] loss : 0.204\n",
      "Epoch : [5] loss : 0.152\n",
      "Epoch : [6] loss : 0.125\n",
      "Epoch : [7] loss : 0.093\n",
      "Epoch : [8] loss : 0.084\n",
      "Epoch : [9] loss : 0.075\n",
      "Epoch : [10] loss : 0.052\n",
      "Epoch : [11] loss : 0.033\n",
      "Epoch : [12] loss : 0.059\n",
      "Epoch : [13] loss : 0.054\n",
      "Epoch : [14] loss : 0.045\n",
      "Epoch : [15] loss : 0.031\n",
      "Epoch : [16] loss : 0.027\n",
      "Epoch : [17] loss : 0.026\n",
      "Epoch : [18] loss : 0.033\n",
      "Epoch : [19] loss : 0.033\n",
      "Epoch : [20] loss : 0.030\n",
      "Epoch : [21] loss : 0.037\n",
      "Epoch : [22] loss : 0.029\n",
      "Epoch : [23] loss : 0.024\n",
      "Epoch : [24] loss : 0.020\n",
      "Epoch : [25] loss : 0.010\n",
      "Epoch : [26] loss : 0.026\n",
      "Epoch : [27] loss : 0.045\n",
      "Epoch : [28] loss : 0.025\n",
      "Epoch : [29] loss : 0.011\n",
      "Epoch : [30] loss : 0.004\n",
      "Epoch : [31] loss : 0.007\n",
      "Epoch : [32] loss : 0.007\n",
      "Epoch : [33] loss : 0.027\n",
      "Epoch : [34] loss : 0.052\n",
      "Epoch : [35] loss : 0.030\n",
      "Epoch : [36] loss : 0.010\n",
      "Epoch : [37] loss : 0.017\n",
      "Epoch : [38] loss : 0.021\n",
      "Epoch : [39] loss : 0.016\n",
      "Epoch : [40] loss : 0.015\n"
     ]
    }
   ],
   "source": [
    "losses = []\n",
    "for ep in range(1, 41):\n",
    "    running_loss = 0.0\n",
    "    for data in trainloader:\n",
    "        image, labels = data[0].to(device), data[1].to(device)\n",
    "        outputs = model(image)\n",
    "        optimizer.zero_grad()\n",
    "        loss = crterion(outputs, labels)\n",
    "        loss.backward()\n",
    "        optimizer.step()\n",
    "        running_loss += loss.item()\n",
    "    losses.append(running_loss / len(trainloader))\n",
    "    print('Epoch : [%d] loss : %.3f' % (ep, running_loss / len(trainloader)))"
   ]
  },
  {
   "cell_type": "code",
   "execution_count": 219,
   "id": "976800b0",
   "metadata": {
    "scrolled": true
   },
   "outputs": [
    {
     "data": {
      "text/plain": [
       "array([['forest'],\n",
       "       ['buildings'],\n",
       "       ['forest'],\n",
       "       ...,\n",
       "       ['street'],\n",
       "       ['forest'],\n",
       "       ['sea']], dtype=object)"
      ]
     },
     "execution_count": 219,
     "metadata": {},
     "output_type": "execute_result"
    }
   ],
   "source": [
    "correct = 0\n",
    "total = 0\n",
    "predicted = []\n",
    "with torch.no_grad():\n",
    "    model.eval()\n",
    "    for data in testloader:\n",
    "        outputs = model(data.to(device))\n",
    "        _, predict = torch.max(outputs, 1)\n",
    "        predicted += predict.cpu()\n",
    "        \n",
    "array = label_encoder.inverse_transform(predicted)\n",
    "array.reshape(len(array), 1)"
   ]
  },
  {
   "cell_type": "code",
   "execution_count": 221,
   "id": "f3c44e2e",
   "metadata": {},
   "outputs": [],
   "source": [
    "# array = predicted.cpu()\n",
    "submission = pd.DataFrame({\n",
    "    \"image\" : test_df['image'],\n",
    "    'label' : array\n",
    "})\n",
    "\n",
    "submission.to_csv('fdsf1.csv', index = False)"
   ]
  },
  {
   "cell_type": "code",
   "execution_count": 222,
   "id": "459f0479",
   "metadata": {},
   "outputs": [
    {
     "data": {
      "text/plain": [
       "[<matplotlib.lines.Line2D at 0x126fbfcc3a0>]"
      ]
     },
     "execution_count": 222,
     "metadata": {},
     "output_type": "execute_result"
    },
    {
     "data": {
      "image/png": "[encoded data removed]",
      "text/plain": [
       "<Figure size 432x288 with 1 Axes>"
      ]
     },
     "metadata": {
      "needs_background": "light"
     },
     "output_type": "display_data"
    }
   ],
   "source": [
    "plt.plot(losses)"
   ]
  },
  {
   "cell_type": "code",
   "execution_count": null,
   "id": "23a89086",
   "metadata": {},
   "outputs": [],
   "source": []
  }
 ],
 "metadata": {
  "kernelspec": {
   "display_name": "Python 3 (ipykernel)",
   "language": "python",
   "name": "python3"
  },
  "language_info": {
   "codemirror_mode": {
    "name": "ipython",
    "version": 3
   },
   "file_extension": ".py",
   "mimetype": "text/x-python",
   "name": "python",
   "nbconvert_exporter": "python",
   "pygments_lexer": "ipython3",
   "version": "3.9.7"
  }
 },
 "nbformat": 4,
 "nbformat_minor": 5
}
