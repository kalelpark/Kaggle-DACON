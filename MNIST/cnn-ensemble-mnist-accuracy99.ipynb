{
 "cells": [
  {
   "cell_type": "markdown",
   "metadata": {},
   "source": [
    "# DIGIT MNIST Classification Ensemble(KOR, ENG)\n",
    "\n",
    "Today I learning about CNN Ensemble(Bagging). It is very amazting performance about accuracy.\n",
    "</br>\n",
    "**Ensemble(Bagging) technique is a method of solving a diffcult problem using the collective intelligence of several people rather than one expert.**</br>\n",
    "(but i think this model is Geneius of several people!!)\n",
    "</br>\n",
    "**This NoteBook Guideline is easy to understand for anyone. I hope it helps many people.**\n",
    "</br>\n",
    "I will also add the link referenced below, so it will be more useful if you check it out!\n",
    "</br>\n",
    "**If you have any question. plz comment!! and Don't forget Upvote!**\n",
    "<hr>\n",
    "금일 CNN을 앙상블 기법의 적용원리에 대하여 학습하였습니다.</br>이 Notebook은 쉽게 이해할 수 있게 작성되어 있으며,\n",
    "개인적인 바램이지만, 많은 사람들이 쉽게 이해하였으면 좋겠습니다.</br>\n",
    "추가로 하단에 참조했으면 하는 링크를 달아두었으니, 내용을 확인하시면 조금 더 도움될 것입니다.\n",
    "\n",
    "# Contents\n",
    "- **Load Data and Preprocessing Data**\n",
    "- **Check Values Count**\n",
    "- **Create Model**\n",
    "- **Learning Ensemble(Very Importance)**\n",
    "- **Reference Link**\n",
    "- **Visualization about Loss and Accuracy**"
   ]
  },
  {
   "cell_type": "markdown",
   "metadata": {},
   "source": [
    "# Load Data and Preprocessing Data\n",
    "- **train_data compose label and pixel value.**\n",
    "    - **train_data Pixel be transformation of 28*28**\n",
    "    - **Pixel value normalization**\n",
    "    - **label data drop and make train_label**\n",
    "        - **(KOR) 28*28 사이즈로 변형 및 정규화 과정을 거치며, label 셋을 따로 만들어 줍니다.**\n",
    "</br>\n",
    "</br>\n",
    "- **test_data**\n",
    "    - **Pixel be transformation of 28*28**\n",
    "    - **Pixel value normalization**    \n",
    "        - **(KOR) 28*28 사이즈로 변환만 해주면 됩니다.**"
   ]
  },
  {
   "cell_type": "code",
   "execution_count": 1,
   "metadata": {
    "_cell_guid": "b1076dfc-b9ad-4769-8c92-a6c4dae69d19",
    "_uuid": "8f2839f25d086af736a60e9eeb907d3b93b6e0e5",
    "execution": {
     "iopub.execute_input": "2022-01-18T11:47:36.657518Z",
     "iopub.status.busy": "2022-01-18T11:47:36.656804Z",
     "iopub.status.idle": "2022-01-18T11:47:40.495351Z",
     "shell.execute_reply": "2022-01-18T11:47:40.494566Z",
     "shell.execute_reply.started": "2022-01-18T11:47:36.657481Z"
    }
   },
   "outputs": [
    {
     "name": "stderr",
     "output_type": "stream",
     "text": [
      "C:\\Users\\c\\.conda\\envs\\wongi\\lib\\site-packages\\requests\\__init__.py:91: RequestsDependencyWarning: urllib3 (1.26.8) or chardet (3.0.4) doesn't match a supported version!\n",
      "  RequestsDependencyWarning)\n"
     ]
    },
    {
     "name": "stdout",
     "output_type": "stream",
     "text": [
      "train_df shape :  (42000, 28, 28, 1) train_label :  (42000, 10) test_data :  (28000, 28, 28, 1)\n"
     ]
    }
   ],
   "source": [
    "import numpy as np\n",
    "import pandas as pd\n",
    "import matplotlib.pyplot as plt\n",
    "import seaborn as sns\n",
    "import warnings\n",
    "import tensorflow as tf\n",
    "\n",
    "from sklearn.model_selection import train_test_split\n",
    "from tensorflow.keras.models import Sequential, Model\n",
    "from tensorflow.keras.layers import Conv2D, Activation, Dense, Input, Dropout, BatchNormalization\n",
    "from tensorflow.keras.layers import Flatten, MaxPooling2D, GlobalAveragePooling2D, LeakyReLU\n",
    "from tensorflow.keras.callbacks import LearningRateScheduler, ReduceLROnPlateau, ModelCheckpoint, EarlyStopping\n",
    "from tensorflow.keras.optimizers import Adam, RMSprop\n",
    "from tensorflow.keras.utils import to_categorical\n",
    "from tensorflow.keras.preprocessing.image import ImageDataGenerator\n",
    "warnings.filterwarnings(action='ignore')\n",
    "%matplotlib inline\n",
    "\n",
    "train_df = pd.read_csv('./train.csv')\n",
    "test_df = pd.read_csv('./test.csv')\n",
    "\n",
    "train_label = train_df['label']\n",
    "train_label = to_categorical(train_label)\n",
    "train_data = (train_df.iloc[:, 1:].values.astype('float32') / 255.0 ).reshape(-1, 28, 28, 1)\n",
    "test_data = (test_df.iloc[:,:].values.astype('float32') / 255.0 ).reshape(-1, 28, 28, 1)\n",
    "\n",
    "print('train_df shape : ',train_data.shape, 'train_label : ',train_label.shape, 'test_data : ',test_data.shape)"
   ]
  },
  {
   "cell_type": "markdown",
   "metadata": {},
   "source": [
    "# Check values count\n",
    "- **Let's Check evenly the distribution of the label data**"
   ]
  },
  {
   "cell_type": "code",
   "execution_count": 2,
   "metadata": {
    "execution": {
     "iopub.execute_input": "2022-01-18T11:47:40.497196Z",
     "iopub.status.busy": "2022-01-18T11:47:40.496753Z",
     "iopub.status.idle": "2022-01-18T11:47:40.705548Z",
     "shell.execute_reply": "2022-01-18T11:47:40.704928Z",
     "shell.execute_reply.started": "2022-01-18T11:47:40.497157Z"
    }
   },
   "outputs": [
    {
     "data": {
      "text/plain": [
       "<AxesSubplot:>"
      ]
     },
     "execution_count": 2,
     "metadata": {},
     "output_type": "execute_result"
    },
    {
     "data": {
      "image/png": "[encoded data removed]",
      "text/plain": [
       "<Figure size 720x576 with 1 Axes>"
      ]
     },
     "metadata": {
      "needs_background": "light"
     },
     "output_type": "display_data"
    }
   ],
   "source": [
    "count = pd.value_counts(train_df['label'].values)\n",
    "count.plot.bar(figsize=(10,8), fontsize=15)"
   ]
  },
  {
   "cell_type": "markdown",
   "metadata": {},
   "source": [
    "# Create Ensemble Model\n",
    "- Please note that I will comment below Code!!!"
   ]
  },
  {
   "cell_type": "code",
   "execution_count": 3,
   "metadata": {
    "execution": {
     "iopub.status.busy": "2022-01-18T14:30:48.496322Z",
     "iopub.status.idle": "2022-01-18T14:30:48.496616Z",
     "shell.execute_reply": "2022-01-18T14:30:48.496487Z",
     "shell.execute_reply.started": "2022-01-18T14:30:48.496467Z"
    }
   },
   "outputs": [],
   "source": [
    "# Build CNN(Convolutional Neural Network)\n",
    "optimizer = RMSprop(learning_rate=0.0025,\n",
    "                    rho=0.9,\n",
    "                    momentum=0.1,\n",
    "                    epsilon=1e-07,\n",
    "                    centered=True,\n",
    "                    name='RMSprop')\n",
    "\n",
    "nets = 15                # Number of Reapeat\n",
    "model = [0] *nets        # Making Ensemble Model List\n",
    "\n",
    "\n",
    "for i in range(nets):\n",
    "    model[i] = tf.keras.models.Sequential([\n",
    "        tf.keras.layers.Conv2D(64, (3,3), padding='same', input_shape=(28, 28, 1)),\n",
    "        tf.keras.layers.BatchNormalization(momentum=0.9, epsilon=1e-5, gamma_initializer=\"uniform\"),\n",
    "        tf.keras.layers.LeakyReLU(alpha=0.1),\n",
    "        \n",
    "        tf.keras.layers.Conv2D(64,  (3,3), padding='same'),\n",
    "        tf.keras.layers.BatchNormalization(momentum=0.9, epsilon=1e-5, gamma_initializer=\"uniform\"),\n",
    "        tf.keras.layers.LeakyReLU(alpha=0.1),\n",
    "        \n",
    "        tf.keras.layers.Conv2D(64,  (3,3), padding='same'),\n",
    "        tf.keras.layers.BatchNormalization(momentum=0.9, epsilon=1e-5, gamma_initializer=\"uniform\"),\n",
    "        tf.keras.layers.LeakyReLU(alpha=0.1),\n",
    "\n",
    "        tf.keras.layers.MaxPooling2D(2, 2),\n",
    "        tf.keras.layers.Dropout(0.25),\n",
    "\n",
    "        tf.keras.layers.Conv2D(128, (3,3), padding='same'),\n",
    "        tf.keras.layers.BatchNormalization(momentum=0.9, epsilon=1e-5, gamma_initializer=\"uniform\"),\n",
    "        tf.keras.layers.LeakyReLU(alpha=0.1),\n",
    "        \n",
    "        tf.keras.layers.Conv2D(128, (3,3), padding='same'),\n",
    "        tf.keras.layers.BatchNormalization(momentum=0.9, epsilon=1e-5, gamma_initializer=\"uniform\"),\n",
    "        tf.keras.layers.LeakyReLU(alpha=0.1),\n",
    "        \n",
    "        tf.keras.layers.Conv2D(128, (3,3), padding='same'),\n",
    "        tf.keras.layers.BatchNormalization(momentum=0.9, epsilon=1e-5, gamma_initializer=\"uniform\"),\n",
    "        tf.keras.layers.LeakyReLU(alpha=0.1),\n",
    "\n",
    "        tf.keras.layers.MaxPooling2D(2,2),\n",
    "        tf.keras.layers.Dropout(0.25),    \n",
    "\n",
    "        tf.keras.layers.Conv2D(256, (3,3), padding='same'),\n",
    "        tf.keras.layers.BatchNormalization(momentum=0.9, epsilon=1e-5, gamma_initializer=\"uniform\"),\n",
    "        tf.keras.layers.LeakyReLU(alpha=0.1),\n",
    "        \n",
    "        tf.keras.layers.Conv2D(256, (3,3), padding='same'),\n",
    "        tf.keras.layers.BatchNormalization(momentum=0.9, epsilon=1e-5, gamma_initializer=\"uniform\"),\n",
    "        tf.keras.layers.LeakyReLU(alpha=0.1),\n",
    "\n",
    "        tf.keras.layers.MaxPooling2D(2,2),\n",
    "        tf.keras.layers.Dropout(0.25),\n",
    "\n",
    "        tf.keras.layers.Flatten(),\n",
    "        tf.keras.layers.Dense(256),\n",
    "        tf.keras.layers.LeakyReLU(alpha=0.1),\n",
    "\n",
    "        tf.keras.layers.BatchNormalization(),\n",
    "        tf.keras.layers.Dense(10, activation='softmax')\n",
    "    ])\n",
    "    \n",
    "    model[i].compile(loss='categorical_crossentropy',\n",
    "              optimizer=optimizer,\n",
    "              metrics=['accuracy'])"
   ]
  },
  {
   "cell_type": "code",
   "execution_count": null,
   "metadata": {},
   "outputs": [],
   "source": [
    "# if you want see model summary()\n",
    "# model.summary()"
   ]
  },
  {
   "cell_type": "markdown",
   "metadata": {},
   "source": [
    "# Learning Ensemble for Bagging\n",
    "<img src = 'https://blog.kakaocdn.net/dn/PC6mD/btrh2i38SMg/VtEFCCGAyvknFrTVkZQ76K/img.webp'></src>"
   ]
  },
  {
   "cell_type": "code",
   "execution_count": 4,
   "metadata": {
    "execution": {
     "iopub.execute_input": "2022-01-18T14:34:10.39149Z",
     "iopub.status.busy": "2022-01-18T14:34:10.391236Z",
     "iopub.status.idle": "2022-01-18T14:34:20.00754Z",
     "shell.execute_reply": "2022-01-18T14:34:20.004031Z",
     "shell.execute_reply.started": "2022-01-18T14:34:10.391462Z"
    },
    "jupyter": {
     "outputs_hidden": true
    }
   },
   "outputs": [
    {
     "name": "stdout",
     "output_type": "stream",
     "text": [
      "CNN 1: Epochs=45, Train accuracy=0.99836, Validation accuracy=0.99643\n",
      "CNN 2: Epochs=45, Train accuracy=0.99825, Validation accuracy=0.99690\n",
      "CNN 3: Epochs=45, Train accuracy=0.99836, Validation accuracy=0.99643\n",
      "CNN 4: Epochs=45, Train accuracy=0.99812, Validation accuracy=0.99690\n",
      "CNN 5: Epochs=45, Train accuracy=0.99836, Validation accuracy=0.99690\n",
      "CNN 6: Epochs=45, Train accuracy=0.99828, Validation accuracy=0.99738\n",
      "CNN 7: Epochs=45, Train accuracy=0.99809, Validation accuracy=0.99595\n",
      "CNN 8: Epochs=45, Train accuracy=0.99809, Validation accuracy=0.99643\n",
      "CNN 9: Epochs=45, Train accuracy=0.99836, Validation accuracy=0.99595\n",
      "CNN 10: Epochs=45, Train accuracy=0.99838, Validation accuracy=0.99762\n",
      "CNN 11: Epochs=45, Train accuracy=0.99830, Validation accuracy=0.99619\n",
      "CNN 12: Epochs=45, Train accuracy=0.99830, Validation accuracy=0.99714\n",
      "CNN 13: Epochs=45, Train accuracy=0.99828, Validation accuracy=0.99714\n",
      "CNN 14: Epochs=45, Train accuracy=0.99833, Validation accuracy=0.99571\n",
      "CNN 15: Epochs=45, Train accuracy=0.99844, Validation accuracy=0.99786\n"
     ]
    }
   ],
   "source": [
    "annealer = LearningRateScheduler(lambda x: 1e-3 * 0.95 ** x)\n",
    "\n",
    "datagen = ImageDataGenerator(\n",
    "        rotation_range=10,  \n",
    "        zoom_range = 0.10,  \n",
    "        width_shift_range=0.1, \n",
    "        height_shift_range=0.1)\n",
    "\n",
    "history = [0] * nets\n",
    "epochs = 45\n",
    "for j in range(nets):\n",
    "    X_train2, X_val2, Y_train2, Y_val2 = train_test_split(train_data, train_label, test_size = 0.1, stratify = train_label)\n",
    "    \n",
    "    history[j] = model[j].fit_generator(datagen.flow(X_train2,Y_train2, batch_size=64),\n",
    "        epochs = epochs, steps_per_epoch = X_train2.shape[0]//64,  \n",
    "        validation_data = (X_val2,Y_val2), callbacks=[annealer], verbose=0)\n",
    "    print(\"CNN {0:d}: Epochs={1:d}, Train accuracy={2:.5f}, Validation accuracy={3:.5f}\".format(\n",
    "        j+1,epochs,max(history[j].history['accuracy']),max(history[j].history['val_accuracy']) ))"
   ]
  },
  {
   "cell_type": "markdown",
   "metadata": {},
   "source": [
    "# Visualization about Loss and Accuracy"
   ]
  },
  {
   "cell_type": "code",
   "execution_count": 6,
   "metadata": {},
   "outputs": [
    {
     "data": {
      "image/png": "[encoded data removed]",
      "text/plain": [
       "<Figure size 432x288 with 2 Axes>"
      ]
     },
     "metadata": {
      "needs_background": "light"
     },
     "output_type": "display_data"
    }
   ],
   "source": [
    "fig, ax = plt.subplots(2,1)\n",
    "ax[0].plot(history[14].history['loss'], color='b', label=\"Training loss\")\n",
    "ax[0].plot(history[14].history['val_loss'], color='r', label=\"Validation loss\",axes =ax[0])\n",
    "ax[0].grid(color='black', linestyle='-', linewidth=0.25)\n",
    "legend = ax[0].legend(loc='best', shadow=True)\n",
    "\n",
    "ax[1].plot(history[14].history['accuracy'], color='b', label=\"Training accuracy\")\n",
    "ax[1].plot(history[14].history['val_accuracy'], color='r',label=\"Validation accuracy\")\n",
    "ax[1].grid(color='black', linestyle='-', linewidth=0.25)\n",
    "legend = ax[1].legend(loc='best', shadow=True)"
   ]
  },
  {
   "cell_type": "code",
   "execution_count": 7,
   "metadata": {},
   "outputs": [],
   "source": [
    "# ENSEMBLE PREDICTIONS AND SUBMIT\n",
    "results = np.zeros( (test_data.shape[0],10) ) \n",
    "for j in range(nets):\n",
    "    results = results + model[j].predict(test_data)\n",
    "results = np.argmax(results,axis = 1)\n",
    "results = pd.Series(results,name=\"Label\")\n",
    "submission = pd.concat([pd.Series(range(1,28001),name = \"ImageId\"),results],axis = 1)\n",
    "submission.to_csv(\"submission.csv\",index=False)"
   ]
  },
  {
   "cell_type": "markdown",
   "metadata": {},
   "source": [
    "# Reference Link\n",
    "<hr>\n",
    "   - It's very useful kernel!!(I recommand below kernel)\n",
    "   \n",
    "- reference link : https://www.kaggle.com/benanakca/kannada-mnist-cnn-tutorial-with-app-top-2\n",
    "- reference link : https://www.kaggle.com/cdeotte/25-million-images-0-99757-mnist/notebook\n"
   ]
  },
  {
   "cell_type": "code",
   "execution_count": null,
   "metadata": {},
   "outputs": [],
   "source": []
  }
 ],
 "metadata": {
  "kernelspec": {
   "display_name": "Python 3 (ipykernel)",
   "language": "python",
   "name": "python3"
  },
  "language_info": {
   "codemirror_mode": {
    "name": "ipython",
    "version": 3
   },
   "file_extension": ".py",
   "mimetype": "text/x-python",
   "name": "python",
   "nbconvert_exporter": "python",
   "pygments_lexer": "ipython3",
   "version": "3.7.9"
  }
 },
 "nbformat": 4,
 "nbformat_minor": 4
}
